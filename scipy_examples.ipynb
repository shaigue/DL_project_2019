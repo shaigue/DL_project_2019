{
 "cells": [
  {
   "cell_type": "markdown",
   "metadata": {},
   "source": [
    "This is some example on how to use scipy to process data"
   ]
  },
  {
   "cell_type": "code",
   "execution_count": 1,
   "metadata": {},
   "outputs": [],
   "source": [
    "import scipy\n",
    "import numpy\n",
    "import scipy.io # this librery is usfull for using matlab objects\n",
    "from scipy.io import wavfile"
   ]
  },
  {
   "cell_type": "code",
   "execution_count": 25,
   "metadata": {},
   "outputs": [],
   "source": [
    "sample_rate, data = wavfile.read('DREGON_dataset/DREGON_free-flight_nosource_room1/DREGON_free-flight_nosource_room1.wav')"
   ]
  },
  {
   "cell_type": "code",
   "execution_count": 26,
   "metadata": {},
   "outputs": [
    {
     "name": "stdout",
     "output_type": "stream",
     "text": [
      "44100\n",
      "(3136897, 8)\n"
     ]
    }
   ],
   "source": [
    "print(sample_rate)\n",
    "print(data.shape) # 8 chanels, alot of samples"
   ]
  },
  {
   "cell_type": "markdown",
   "metadata": {},
   "source": [
    "now that we loaded the file we will do some cooll transformations on it:"
   ]
  },
  {
   "cell_type": "markdown",
   "metadata": {},
   "source": [
    "transform the audio with short time furier transformation:"
   ]
  },
  {
   "cell_type": "code",
   "execution_count": 31,
   "metadata": {},
   "outputs": [
    {
     "name": "stdout",
     "output_type": "stream",
     "text": [
      "the frequancies: [    0.    22.    44.    66.    88.   110.   132.   154.   176.   198.\n",
      "   220.   242.   264.   286.   308.   330.   352.   374.   396.   418.\n",
      "   440.   462.   484.   506.   528.   550.   572.   594.   616.   638.\n",
      "   660.   682.   704.   726.   748.   770.   792.   814.   836.   858.\n",
      "   880.   902.   924.   946.   968.   990.  1012.  1034.  1056.  1078.\n",
      "  1100.  1122.  1144.  1166.  1188.  1210.  1232.  1254.  1276.  1298.\n",
      "  1320.  1342.  1364.  1386.  1408.  1430.  1452.  1474.  1496.  1518.\n",
      "  1540.  1562.  1584.  1606.  1628.  1650.  1672.  1694.  1716.  1738.\n",
      "  1760.  1782.  1804.  1826.  1848.  1870.  1892.  1914.  1936.  1958.\n",
      "  1980.  2002.  2024.  2046.  2068.  2090.  2112.  2134.  2156.  2178.\n",
      "  2200.  2222.  2244.  2266.  2288.  2310.  2332.  2354.  2376.  2398.\n",
      "  2420.  2442.  2464.  2486.  2508.  2530.  2552.  2574.  2596.  2618.\n",
      "  2640.  2662.  2684.  2706.  2728.  2750.  2772.  2794.  2816.  2838.\n",
      "  2860.  2882.  2904.  2926.  2948.  2970.  2992.  3014.  3036.  3058.\n",
      "  3080.  3102.  3124.  3146.  3168.  3190.  3212.  3234.  3256.  3278.\n",
      "  3300.  3322.  3344.  3366.  3388.  3410.  3432.  3454.  3476.  3498.\n",
      "  3520.  3542.  3564.  3586.  3608.  3630.  3652.  3674.  3696.  3718.\n",
      "  3740.  3762.  3784.  3806.  3828.  3850.  3872.  3894.  3916.  3938.\n",
      "  3960.  3982.  4004.  4026.  4048.  4070.  4092.  4114.  4136.  4158.\n",
      "  4180.  4202.  4224.  4246.  4268.  4290.  4312.  4334.  4356.  4378.\n",
      "  4400.  4422.  4444.  4466.  4488.  4510.  4532.  4554.  4576.  4598.\n",
      "  4620.  4642.  4664.  4686.  4708.  4730.  4752.  4774.  4796.  4818.\n",
      "  4840.  4862.  4884.  4906.  4928.  4950.  4972.  4994.  5016.  5038.\n",
      "  5060.  5082.  5104.  5126.  5148.  5170.  5192.  5214.  5236.  5258.\n",
      "  5280.  5302.  5324.  5346.  5368.  5390.  5412.  5434.  5456.  5478.\n",
      "  5500.  5522.  5544.  5566.  5588.  5610.  5632.  5654.  5676.  5698.\n",
      "  5720.  5742.  5764.  5786.  5808.  5830.  5852.  5874.  5896.  5918.\n",
      "  5940.  5962.  5984.  6006.  6028.  6050.  6072.  6094.  6116.  6138.\n",
      "  6160.  6182.  6204.  6226.  6248.  6270.  6292.  6314.  6336.  6358.\n",
      "  6380.  6402.  6424.  6446.  6468.  6490.  6512.  6534.  6556.  6578.\n",
      "  6600.  6622.  6644.  6666.  6688.  6710.  6732.  6754.  6776.  6798.\n",
      "  6820.  6842.  6864.  6886.  6908.  6930.  6952.  6974.  6996.  7018.\n",
      "  7040.  7062.  7084.  7106.  7128.  7150.  7172.  7194.  7216.  7238.\n",
      "  7260.  7282.  7304.  7326.  7348.  7370.  7392.  7414.  7436.  7458.\n",
      "  7480.  7502.  7524.  7546.  7568.  7590.  7612.  7634.  7656.  7678.\n",
      "  7700.  7722.  7744.  7766.  7788.  7810.  7832.  7854.  7876.  7898.\n",
      "  7920.  7942.  7964.  7986.  8008.  8030.  8052.  8074.  8096.  8118.\n",
      "  8140.  8162.  8184.  8206.  8228.  8250.  8272.  8294.  8316.  8338.\n",
      "  8360.  8382.  8404.  8426.  8448.  8470.  8492.  8514.  8536.  8558.\n",
      "  8580.  8602.  8624.  8646.  8668.  8690.  8712.  8734.  8756.  8778.\n",
      "  8800.  8822.  8844.  8866.  8888.  8910.  8932.  8954.  8976.  8998.\n",
      "  9020.  9042.  9064.  9086.  9108.  9130.  9152.  9174.  9196.  9218.\n",
      "  9240.  9262.  9284.  9306.  9328.  9350.  9372.  9394.  9416.  9438.\n",
      "  9460.  9482.  9504.  9526.  9548.  9570.  9592.  9614.  9636.  9658.\n",
      "  9680.  9702.  9724.  9746.  9768.  9790.  9812.  9834.  9856.  9878.\n",
      "  9900.  9922.  9944.  9966.  9988. 10010. 10032. 10054. 10076. 10098.\n",
      " 10120. 10142. 10164. 10186. 10208. 10230. 10252. 10274. 10296. 10318.\n",
      " 10340. 10362. 10384. 10406. 10428. 10450. 10472. 10494. 10516. 10538.\n",
      " 10560. 10582. 10604. 10626. 10648. 10670. 10692. 10714. 10736. 10758.\n",
      " 10780. 10802. 10824. 10846. 10868. 10890. 10912. 10934. 10956. 10978.\n",
      " 11000.], the times: [0.         0.02272727 0.04545455 0.06818182 0.09090909 0.11363636\n",
      " 0.13636364 0.15909091 0.18181818 0.20454545 0.22727273 0.25\n",
      " 0.27272727 0.29545455 0.31818182 0.34090909 0.36363636 0.38636364\n",
      " 0.40909091 0.43181818 0.45454545 0.47727273 0.5        0.52272727\n",
      " 0.54545455 0.56818182 0.59090909 0.61363636 0.63636364 0.65909091\n",
      " 0.68181818 0.70454545 0.72727273 0.75       0.77272727 0.79545455\n",
      " 0.81818182 0.84090909 0.86363636 0.88636364 0.90909091], and the spectrogram shape: (501, 41)\n"
     ]
    },
    {
     "data": {
      "image/png": "[encoded data removed]",
      "text/plain": [
       "<Figure size 432x288 with 1 Axes>"
      ]
     },
     "metadata": {
      "needs_background": "light"
     },
     "output_type": "display_data"
    }
   ],
   "source": [
    "from scipy.signal import stft, spectrogram\n",
    "from matplotlib import pyplot as plt\n",
    "data2 = data[:20000, 0]\n",
    "f, t, img = stft(data2, nperseg=1000 , fs=22000)\n",
    "print(f'the frequancies: {f}, the times: {t}, and the spectrogram shape: {img.shape}')\n",
    "# plt.imshow(img)\n",
    "\n",
    "f, t, Sxx = spectrogram(data2, fs=2000)\n",
    "plt.pcolormesh(t, f, Sxx)\n",
    "plt.ylabel('Frequency [Hz]')\n",
    "plt.xlabel('Time [sec]')\n",
    "plt.show()"
   ]
  }
 ],
 "metadata": {
  "kernelspec": {
   "display_name": "Python 3",
   "language": "python",
   "name": "python3"
  },
  "language_info": {
   "codemirror_mode": {
    "name": "ipython",
    "version": 3
   },
   "file_extension": ".py",
   "mimetype": "text/x-python",
   "name": "python",
   "nbconvert_exporter": "python",
   "pygments_lexer": "ipython3",
   "version": "3.7.4"
  }
 },
 "nbformat": 4,
 "nbformat_minor": 4
}
